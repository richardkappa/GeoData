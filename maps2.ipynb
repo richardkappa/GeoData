{
 "cells": [
  {
   "cell_type": "code",
   "execution_count": 11,
   "metadata": {},
   "outputs": [],
   "source": [
    "import pandas as pd\n",
    "import geopandas as gpd\n",
    "import pickle\n",
    "from shapely.geometry import Polygon\n",
    "import numpy as np\n",
    "\n",
    "%matplotlib inline\n",
    "import matplotlib.pyplot as plt\n",
    "\n",
    "root_path = \"D:/GeoData/\"\n",
    "Main_CRS = \"EPSG:27700\""
   ]
  },
  {
   "cell_type": "code",
   "execution_count": 2,
   "metadata": {},
   "outputs": [],
   "source": [
    "#Function for opening saved data\n",
    "def load_obj(name ):\n",
    "    with open(root_path + 'WorkingData/' + name + '.pickle', 'rb') as f:\n",
    "        return pickle.load(f)"
   ]
  },
  {
   "cell_type": "code",
   "execution_count": 3,
   "metadata": {},
   "outputs": [],
   "source": [
    "gdf = load_obj(\"raw_gdf_South_London\")"
   ]
  },
  {
   "cell_type": "code",
   "execution_count": 12,
   "metadata": {},
   "outputs": [
    {
     "data": {
      "text/html": [
       "<div>\n",
       "<style scoped>\n",
       "    .dataframe tbody tr th:only-of-type {\n",
       "        vertical-align: middle;\n",
       "    }\n",
       "\n",
       "    .dataframe tbody tr th {\n",
       "        vertical-align: top;\n",
       "    }\n",
       "\n",
       "    .dataframe thead th {\n",
       "        text-align: right;\n",
       "    }\n",
       "</style>\n",
       "<table border=\"1\" class=\"dataframe\">\n",
       "  <thead>\n",
       "    <tr style=\"text-align: right;\">\n",
       "      <th></th>\n",
       "      <th>Type</th>\n",
       "      <th>Name</th>\n",
       "      <th>Details_Str</th>\n",
       "      <th>Details_Float</th>\n",
       "      <th>geometry</th>\n",
       "      <th>fictitious</th>\n",
       "      <th>identifier</th>\n",
       "      <th>class</th>\n",
       "      <th>roadNumber</th>\n",
       "      <th>name1</th>\n",
       "      <th>...</th>\n",
       "      <th>primary</th>\n",
       "      <th>trunkRoad</th>\n",
       "      <th>loop</th>\n",
       "      <th>startNode</th>\n",
       "      <th>endNode</th>\n",
       "      <th>structure</th>\n",
       "      <th>nameTOID</th>\n",
       "      <th>numberTOID</th>\n",
       "      <th>function</th>\n",
       "      <th>number</th>\n",
       "    </tr>\n",
       "  </thead>\n",
       "  <tbody>\n",
       "  </tbody>\n",
       "</table>\n",
       "<p>0 rows × 25 columns</p>\n",
       "</div>"
      ],
      "text/plain": [
       "Empty GeoDataFrame\n",
       "Columns: [Type, Name, Details_Str, Details_Float, geometry, fictitious, identifier, class, roadNumber, name1, name1_lang, name2, name2_lang, formOfWay, length, primary, trunkRoad, loop, startNode, endNode, structure, nameTOID, numberTOID, function, number]\n",
       "Index: []\n",
       "\n",
       "[0 rows x 25 columns]"
      ]
     },
     "execution_count": 12,
     "metadata": {},
     "output_type": "execute_result"
    }
   ],
   "source": [
    "gdf.loc[gdf[\"Type\"]==np.nan]"
   ]
  },
  {
   "cell_type": "code",
   "execution_count": 53,
   "metadata": {},
   "outputs": [
    {
     "data": {
      "text/plain": [
       "['RailwayStations',\n",
       " 'BusStops',\n",
       " 'RoadAccidents',\n",
       " 'Postcodes',\n",
       " 'LReg',\n",
       " 'FireStations',\n",
       " 'Schools',\n",
       " 'Clinic',\n",
       " 'Dentists',\n",
       " 'GP',\n",
       " 'Opticians',\n",
       " 'Pharmacy',\n",
       " 'Care homes and care at home',\n",
       " 'All_GB',\n",
       " 'LocalAuthorities',\n",
       " 'LSOA',\n",
       " 'GreenSpace',\n",
       " 'Rivers',\n",
       " 'Railway_Lines',\n",
       " 'Urban_Region',\n",
       " 'LocalNatureReserve',\n",
       " 'AncientWoodland',\n",
       " 'ConservationArea',\n",
       " 'Listed Buildings',\n",
       " 'MetOffice']"
      ]
     },
     "execution_count": 53,
     "metadata": {},
     "output_type": "execute_result"
    }
   ],
   "source": [
    "gdf[\"Type\"].dropna().unique().tolist()"
   ]
  },
  {
   "cell_type": "code",
   "execution_count": 45,
   "metadata": {},
   "outputs": [
    {
     "data": {
      "text/plain": [
       "[nan, nan, nan, nan]"
      ]
     },
     "execution_count": 45,
     "metadata": {},
     "output_type": "execute_result"
    }
   ],
   "source": [
    "list[11046:11050]"
   ]
  },
  {
   "cell_type": "code",
   "execution_count": 46,
   "metadata": {},
   "outputs": [
    {
     "data": {
      "text/plain": [
       "Type                                                           NaN\n",
       "Name                                                           NaN\n",
       "Details_Str                                                    NaN\n",
       "Details_Float                                                  NaN\n",
       "geometry         LINESTRING Z (537981 172171 0, 537966.71 17215...\n",
       "fictitious                                                   false\n",
       "identifier                    A612413D-DDC6-4B8F-81E3-D8D262B631C7\n",
       "class                                                 Unclassified\n",
       "roadNumber                                                    None\n",
       "name1                                               Allerford Road\n",
       "name1_lang                                                    None\n",
       "name2                                                         None\n",
       "name2_lang                                                    None\n",
       "formOfWay                                       Single Carriageway\n",
       "length                                                        77.0\n",
       "primary                                                      false\n",
       "trunkRoad                                                    false\n",
       "loop                                                         false\n",
       "startNode                     4A489935-B4A6-4384-B4E6-F0953EEC643F\n",
       "endNode                       E90057F6-993A-4546-BC7E-4E5AFC132F09\n",
       "structure                                                     None\n",
       "nameTOID                                      osgb4000000030501470\n",
       "numberTOID                                                    None\n",
       "function                                                Local Road\n",
       "number                                                         NaN\n",
       "Name: 11046, dtype: object"
      ]
     },
     "execution_count": 46,
     "metadata": {},
     "output_type": "execute_result"
    }
   ],
   "source": [
    "gdf.reset_index(drop=True).iloc[11046,:]"
   ]
  },
  {
   "cell_type": "code",
   "execution_count": null,
   "metadata": {},
   "outputs": [],
   "source": []
  }
 ],
 "metadata": {
  "interpreter": {
   "hash": "f78a45328dcddc684fcc7e97834e2f9ed1c731cb5e93878b3fdd5359bd832b4d"
  },
  "kernelspec": {
   "display_name": "Python 3.9.7 ('GeoData')",
   "language": "python",
   "name": "python3"
  },
  "language_info": {
   "codemirror_mode": {
    "name": "ipython",
    "version": 3
   },
   "file_extension": ".py",
   "mimetype": "text/x-python",
   "name": "python",
   "nbconvert_exporter": "python",
   "pygments_lexer": "ipython3",
   "version": "3.9.7"
  },
  "orig_nbformat": 4
 },
 "nbformat": 4,
 "nbformat_minor": 2
}
