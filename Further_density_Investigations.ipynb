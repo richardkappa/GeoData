{
 "cells": [
  {
   "cell_type": "code",
   "execution_count": 1,
   "metadata": {},
   "outputs": [],
   "source": [
    "import KeyFunctions as kf\n",
    "import pygeos\n",
    "import numpy as np\n",
    "import pandas as pd\n",
    "\n",
    "root_path = \"D:/GeoData/\"\n",
    "Main_CRS = \"EPSG:27700\"\n",
    "\n",
    "%matplotlib inline\n",
    "import matplotlib.pyplot as plt"
   ]
  },
  {
   "cell_type": "code",
   "execution_count": 2,
   "metadata": {},
   "outputs": [],
   "source": [
    "#Generalised function to find the nearest candidate geometry to each source geometry\n",
    "\n",
    "def dist_to_nearest(source, candidates, return_geom = False):\n",
    "    source_py = pygeos.from_shapely(source.geometry)\n",
    "    candidates_py = pygeos.from_shapely(candidates.geometry)\n",
    "    tree = pygeos.STRtree(candidates_py)\n",
    "    s_near, c_near = tree.nearest(source_py)\n",
    "\n",
    "    dist = pygeos.distance(source_py[s_near.tolist()], candidates_py[c_near.tolist()])\n",
    "\n",
    "    if return_geom:\n",
    "        out = dist, candidates.loc[c_near.tolist() ,\"geometry\"]\n",
    "    else:\n",
    "        out = dist\n",
    "\n",
    "    return out"
   ]
  },
  {
   "cell_type": "code",
   "execution_count": 3,
   "metadata": {},
   "outputs": [],
   "source": [
    "def within_radius(source, candidates, radius):\n",
    "    source_py = pygeos.from_shapely(source.geometry)\n",
    "    candidates_py = pygeos.from_shapely(candidates.geometry)\n",
    "\n",
    "    tree = pygeos.STRtree(candidates_py)\n",
    "    s_idx, c_idx = tree.query_bulk(source_py, predicate='dwithin', distance=radius)\n",
    "    return np.bincount(s_idx)"
   ]
  },
  {
   "cell_type": "code",
   "execution_count": 4,
   "metadata": {},
   "outputs": [],
   "source": [
    "def average_within_radius(source, candidates, radius, Value):\n",
    "\n",
    "    source_py = pygeos.from_shapely(source.geometry)\n",
    "    candidates_py = pygeos.from_shapely(candidates.geometry)\n",
    "\n",
    "    tree = pygeos.STRtree(candidates_py)\n",
    "    s_idx, c_idx = tree.query_bulk(source_py, predicate='dwithin', distance=radius)\n",
    "\n",
    "    avg = [candidates.loc[c_idx[s_idx == x],Value].mean() for x in range(0,max(s_idx)+1)]\n",
    "\n",
    "    return avg\n"
   ]
  },
  {
   "cell_type": "code",
   "execution_count": 5,
   "metadata": {},
   "outputs": [],
   "source": [
    "#Import the postcode list from the raw data gdf\n",
    "name = \"StPauls\" \n",
    "gdf = kf.load_obj(root_path,\"raw_gdf_\" + name)\n",
    "\n",
    "#Initial set up os selecting some points and polygons\n",
    "GreenSpace = gdf.loc[gdf[\"Type\"]==\"GreenSpace\",:].reset_index(drop=True)\n",
    "All_GB = gdf.loc[gdf[\"Type\"]==\"All_GB\",:].reset_index(drop=True)\n",
    "LocalAuthorities = gdf.loc[gdf[\"Type\"]==\"LocalAuthorities\",:].reset_index(drop=True)\n",
    "Postcodes = gdf.loc[gdf[\"Type\"]==\"Postcodes\",:]\n",
    "Road = gdf.loc[gdf[\"Type\"]==\"Road\",:].reset_index(drop=True)\n",
    "LReg = gdf.loc[gdf[\"Type\"]==\"LReg\",:].reset_index(drop=True)\n",
    "Dentists = gdf.loc[gdf[\"Type\"]==\"Dentists\",:].reset_index(drop=True)"
   ]
  },
  {
   "cell_type": "code",
   "execution_count": 6,
   "metadata": {},
   "outputs": [
    {
     "data": {
      "text/plain": [
       "array([27.65863337, 35.51056181, 20.        , ...,  7.61577311,\n",
       "       77.52418977, 29.41088234])"
      ]
     },
     "execution_count": 6,
     "metadata": {},
     "output_type": "execute_result"
    }
   ],
   "source": [
    "dist_to_nearest(Postcodes, LReg)"
   ]
  },
  {
   "cell_type": "code",
   "execution_count": 7,
   "metadata": {},
   "outputs": [
    {
     "data": {
      "text/plain": [
       "array([109, 436, 154, ..., 117, 130, 128], dtype=int64)"
      ]
     },
     "execution_count": 7,
     "metadata": {},
     "output_type": "execute_result"
    }
   ],
   "source": [
    "within_radius(Postcodes, LReg, 500)"
   ]
  },
  {
   "cell_type": "code",
   "execution_count": 8,
   "metadata": {},
   "outputs": [],
   "source": [
    "#Comment out as this isn't very good\n",
    "#average_within_radius(Postcodes, LReg, 500, \"Details_Float\")"
   ]
  },
  {
   "cell_type": "code",
   "execution_count": 9,
   "metadata": {},
   "outputs": [],
   "source": [
    "#time for a race\n",
    "#Ball Tree Method vs pygeos methods"
   ]
  },
  {
   "cell_type": "code",
   "execution_count": 10,
   "metadata": {},
   "outputs": [
    {
     "name": "stdout",
     "output_type": "stream",
     "text": [
      "1.75 s ± 14.8 ms per loop (mean ± std. dev. of 7 runs, 1 loop each)\n"
     ]
    }
   ],
   "source": [
    "%%timeit\n",
    "kf.density_within_radius(Postcodes,LReg, 500)"
   ]
  },
  {
   "cell_type": "code",
   "execution_count": 11,
   "metadata": {},
   "outputs": [
    {
     "name": "stdout",
     "output_type": "stream",
     "text": [
      "3.53 s ± 91.1 ms per loop (mean ± std. dev. of 7 runs, 1 loop each)\n"
     ]
    }
   ],
   "source": [
    "%%timeit\n",
    "within_radius(Postcodes, LReg, 500)"
   ]
  },
  {
   "cell_type": "code",
   "execution_count": 12,
   "metadata": {},
   "outputs": [],
   "source": [
    "#New method not as quick (twice as slow infact), but it has the advantage of working on all geometries"
   ]
  },
  {
   "cell_type": "code",
   "execution_count": 13,
   "metadata": {},
   "outputs": [
    {
     "name": "stdout",
     "output_type": "stream",
     "text": [
      "1.8 s ± 46.6 ms per loop (mean ± std. dev. of 7 runs, 1 loop each)\n"
     ]
    }
   ],
   "source": [
    "%%timeit\n",
    "kf.nearest_neighbor_point(Postcodes, LReg, \"Name\", \"Name\", keep_n_g_d = [False, False, True], merge=False)"
   ]
  },
  {
   "cell_type": "code",
   "execution_count": 14,
   "metadata": {},
   "outputs": [
    {
     "name": "stdout",
     "output_type": "stream",
     "text": [
      "1.48 s ± 22.9 ms per loop (mean ± std. dev. of 7 runs, 1 loop each)\n"
     ]
    }
   ],
   "source": [
    "%%timeit\n",
    "dist_to_nearest(Postcodes, LReg)"
   ]
  },
  {
   "cell_type": "code",
   "execution_count": 15,
   "metadata": {},
   "outputs": [],
   "source": [
    "#New process is quicker and more versitile as it works with different geometires"
   ]
  },
  {
   "cell_type": "code",
   "execution_count": 16,
   "metadata": {},
   "outputs": [
    {
     "name": "stdout",
     "output_type": "stream",
     "text": [
      "1.97 s ± 40.8 ms per loop (mean ± std. dev. of 7 runs, 1 loop each)\n"
     ]
    }
   ],
   "source": [
    "%%timeit\n",
    "kf.average_within_radius(Postcodes, LReg, \"Details_Float\", 500)"
   ]
  },
  {
   "cell_type": "code",
   "execution_count": 17,
   "metadata": {},
   "outputs": [
    {
     "name": "stdout",
     "output_type": "stream",
     "text": [
      "2min 52s ± 13.9 s per loop (mean ± std. dev. of 7 runs, 1 loop each)\n"
     ]
    }
   ],
   "source": [
    "%%timeit\n",
    "average_within_radius(Postcodes, LReg, 500, \"Details_Float\")"
   ]
  },
  {
   "cell_type": "code",
   "execution_count": 18,
   "metadata": {},
   "outputs": [],
   "source": [
    "#I failed at making this using pygeos method. I'm sure it's there and possible. But I can't see it\n",
    "\n",
    "#Add the two nearest functions to keyfunctions"
   ]
  }
 ],
 "metadata": {
  "interpreter": {
   "hash": "f78a45328dcddc684fcc7e97834e2f9ed1c731cb5e93878b3fdd5359bd832b4d"
  },
  "kernelspec": {
   "display_name": "Python 3.9.7 ('GeoData')",
   "language": "python",
   "name": "python3"
  },
  "language_info": {
   "codemirror_mode": {
    "name": "ipython",
    "version": 3
   },
   "file_extension": ".py",
   "mimetype": "text/x-python",
   "name": "python",
   "nbconvert_exporter": "python",
   "pygments_lexer": "ipython3",
   "version": "3.9.7"
  },
  "orig_nbformat": 4
 },
 "nbformat": 4,
 "nbformat_minor": 2
}
